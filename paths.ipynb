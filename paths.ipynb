{
 "cells": [
  {
   "cell_type": "markdown",
   "metadata": {},
   "source": [
    "Import necessary libraries"
   ]
  },
  {
   "cell_type": "code",
   "execution_count": 8,
   "metadata": {},
   "outputs": [],
   "source": [
    "import pandas as pd\n",
    "import matplotlib.pyplot as plt\n",
    "import numpy as np"
   ]
  },
  {
   "cell_type": "code",
   "execution_count": 26,
   "metadata": {},
   "outputs": [
    {
     "name": "stderr",
     "output_type": "stream",
     "text": [
      "UsageError: unrecognized arguments: # Use it in order to show plot in a new window -> helpful\n"
     ]
    }
   ],
   "source": [
    "%matplotlib qt # Use it in order to show plot in a new window -> helpful"
   ]
  },
  {
   "cell_type": "markdown",
   "metadata": {},
   "source": [
    "Read data from CSV"
   ]
  },
  {
   "cell_type": "code",
   "execution_count": 3,
   "metadata": {},
   "outputs": [],
   "source": [
    "df = pd.read_csv('bandusdt.txt')"
   ]
  },
  {
   "cell_type": "code",
   "execution_count": 6,
   "metadata": {},
   "outputs": [
    {
     "data": {
      "text/html": [
       "<div>\n",
       "<style scoped>\n",
       "    .dataframe tbody tr th:only-of-type {\n",
       "        vertical-align: middle;\n",
       "    }\n",
       "\n",
       "    .dataframe tbody tr th {\n",
       "        vertical-align: top;\n",
       "    }\n",
       "\n",
       "    .dataframe thead th {\n",
       "        text-align: right;\n",
       "    }\n",
       "</style>\n",
       "<table border=\"1\" class=\"dataframe\">\n",
       "  <thead>\n",
       "    <tr style=\"text-align: right;\">\n",
       "      <th></th>\n",
       "      <th>date</th>\n",
       "      <th>timestamp</th>\n",
       "      <th>open</th>\n",
       "      <th>high</th>\n",
       "      <th>low</th>\n",
       "      <th>close</th>\n",
       "      <th>volume</th>\n",
       "      <th>timestamp_c</th>\n",
       "      <th>volume_quote</th>\n",
       "      <th>trades_count</th>\n",
       "      <th>aggresive_buy_volume</th>\n",
       "      <th>aggresive_buy_volume_quote</th>\n",
       "      <th>Ignore</th>\n",
       "      <th>log_ret</th>\n",
       "    </tr>\n",
       "  </thead>\n",
       "  <tbody>\n",
       "    <tr>\n",
       "      <th>0</th>\n",
       "      <td>2022-11-01 00:00:00+00:00</td>\n",
       "      <td>1.667261e+12</td>\n",
       "      <td>1.182</td>\n",
       "      <td>1.183</td>\n",
       "      <td>1.182</td>\n",
       "      <td>1.182</td>\n",
       "      <td>592.0</td>\n",
       "      <td>1.667261e+12</td>\n",
       "      <td>700.0699</td>\n",
       "      <td>7.0</td>\n",
       "      <td>592.0</td>\n",
       "      <td>700.0699</td>\n",
       "      <td>0.0</td>\n",
       "      <td>0.000000</td>\n",
       "    </tr>\n",
       "    <tr>\n",
       "      <th>1</th>\n",
       "      <td>2022-11-01 00:01:00+00:00</td>\n",
       "      <td>1.667261e+12</td>\n",
       "      <td>1.182</td>\n",
       "      <td>1.184</td>\n",
       "      <td>1.182</td>\n",
       "      <td>1.184</td>\n",
       "      <td>2987.1</td>\n",
       "      <td>1.667261e+12</td>\n",
       "      <td>3534.2339</td>\n",
       "      <td>25.0</td>\n",
       "      <td>2854.3</td>\n",
       "      <td>3377.0605</td>\n",
       "      <td>0.0</td>\n",
       "      <td>0.001691</td>\n",
       "    </tr>\n",
       "  </tbody>\n",
       "</table>\n",
       "</div>"
      ],
      "text/plain": [
       "                        date     timestamp   open   high    low  close  \\\n",
       "0  2022-11-01 00:00:00+00:00  1.667261e+12  1.182  1.183  1.182  1.182   \n",
       "1  2022-11-01 00:01:00+00:00  1.667261e+12  1.182  1.184  1.182  1.184   \n",
       "\n",
       "   volume   timestamp_c  volume_quote  trades_count  aggresive_buy_volume  \\\n",
       "0   592.0  1.667261e+12      700.0699           7.0                 592.0   \n",
       "1  2987.1  1.667261e+12     3534.2339          25.0                2854.3   \n",
       "\n",
       "   aggresive_buy_volume_quote  Ignore   log_ret  \n",
       "0                    700.0699     0.0  0.000000  \n",
       "1                   3377.0605     0.0  0.001691  "
      ]
     },
     "execution_count": 6,
     "metadata": {},
     "output_type": "execute_result"
    }
   ],
   "source": [
    "df.head(2)"
   ]
  },
  {
   "cell_type": "markdown",
   "metadata": {},
   "source": [
    "Show timestamp in better form"
   ]
  },
  {
   "cell_type": "code",
   "execution_count": 9,
   "metadata": {},
   "outputs": [],
   "source": [
    "df.timestamp = df.timestamp.astype(np.int64)"
   ]
  },
  {
   "cell_type": "code",
   "execution_count": 10,
   "metadata": {},
   "outputs": [
    {
     "data": {
      "text/html": [
       "<div>\n",
       "<style scoped>\n",
       "    .dataframe tbody tr th:only-of-type {\n",
       "        vertical-align: middle;\n",
       "    }\n",
       "\n",
       "    .dataframe tbody tr th {\n",
       "        vertical-align: top;\n",
       "    }\n",
       "\n",
       "    .dataframe thead th {\n",
       "        text-align: right;\n",
       "    }\n",
       "</style>\n",
       "<table border=\"1\" class=\"dataframe\">\n",
       "  <thead>\n",
       "    <tr style=\"text-align: right;\">\n",
       "      <th></th>\n",
       "      <th>date</th>\n",
       "      <th>timestamp</th>\n",
       "      <th>open</th>\n",
       "      <th>high</th>\n",
       "      <th>low</th>\n",
       "      <th>close</th>\n",
       "      <th>volume</th>\n",
       "      <th>timestamp_c</th>\n",
       "      <th>volume_quote</th>\n",
       "      <th>trades_count</th>\n",
       "      <th>aggresive_buy_volume</th>\n",
       "      <th>aggresive_buy_volume_quote</th>\n",
       "      <th>Ignore</th>\n",
       "      <th>log_ret</th>\n",
       "    </tr>\n",
       "  </thead>\n",
       "  <tbody>\n",
       "    <tr>\n",
       "      <th>0</th>\n",
       "      <td>2022-11-01 00:00:00+00:00</td>\n",
       "      <td>1667260800000</td>\n",
       "      <td>1.182</td>\n",
       "      <td>1.183</td>\n",
       "      <td>1.182</td>\n",
       "      <td>1.182</td>\n",
       "      <td>592.0</td>\n",
       "      <td>1.667261e+12</td>\n",
       "      <td>700.0699</td>\n",
       "      <td>7.0</td>\n",
       "      <td>592.0</td>\n",
       "      <td>700.0699</td>\n",
       "      <td>0.0</td>\n",
       "      <td>0.000000</td>\n",
       "    </tr>\n",
       "    <tr>\n",
       "      <th>1</th>\n",
       "      <td>2022-11-01 00:01:00+00:00</td>\n",
       "      <td>1667260860000</td>\n",
       "      <td>1.182</td>\n",
       "      <td>1.184</td>\n",
       "      <td>1.182</td>\n",
       "      <td>1.184</td>\n",
       "      <td>2987.1</td>\n",
       "      <td>1.667261e+12</td>\n",
       "      <td>3534.2339</td>\n",
       "      <td>25.0</td>\n",
       "      <td>2854.3</td>\n",
       "      <td>3377.0605</td>\n",
       "      <td>0.0</td>\n",
       "      <td>0.001691</td>\n",
       "    </tr>\n",
       "  </tbody>\n",
       "</table>\n",
       "</div>"
      ],
      "text/plain": [
       "                        date      timestamp   open   high    low  close  \\\n",
       "0  2022-11-01 00:00:00+00:00  1667260800000  1.182  1.183  1.182  1.182   \n",
       "1  2022-11-01 00:01:00+00:00  1667260860000  1.182  1.184  1.182  1.184   \n",
       "\n",
       "   volume   timestamp_c  volume_quote  trades_count  aggresive_buy_volume  \\\n",
       "0   592.0  1.667261e+12      700.0699           7.0                 592.0   \n",
       "1  2987.1  1.667261e+12     3534.2339          25.0                2854.3   \n",
       "\n",
       "   aggresive_buy_volume_quote  Ignore   log_ret  \n",
       "0                    700.0699     0.0  0.000000  \n",
       "1                   3377.0605     0.0  0.001691  "
      ]
     },
     "execution_count": 10,
     "metadata": {},
     "output_type": "execute_result"
    }
   ],
   "source": [
    "df.head(2)"
   ]
  },
  {
   "cell_type": "markdown",
   "metadata": {},
   "source": [
    "Get random timestamps that we will use as a timestamp for our signals"
   ]
  },
  {
   "cell_type": "code",
   "execution_count": 22,
   "metadata": {},
   "outputs": [],
   "source": [
    "indexes = set(np.random.randint(0, df.shape[0], 50))\n",
    "timestamps = df.timestamp[indexes].values"
   ]
  },
  {
   "cell_type": "markdown",
   "metadata": {},
   "source": [
    "Definition of a function for paths creation"
   ]
  },
  {
   "cell_type": "code",
   "execution_count": 28,
   "metadata": {},
   "outputs": [],
   "source": [
    "# df -> Your candlestick dataframe\n",
    "# timestamps -> Signal timestamps\n",
    "# minutes -> How many minutes you would like to plot after the signal\n",
    "\n",
    "def generate_paths_for_signal_timestamps(df, timestamps, minutes: int=1):\n",
    "    sigs = {}\n",
    "    plt.figure()\n",
    "    plt.title('Paths after signals')\n",
    "    for t in timestamps:\n",
    "        temp = df.loc[:, ['close', 'timestamp']] # You can replace close with high/low/open etc.\n",
    "        temp = temp[(temp.timestamp >= t) & (temp.timestamp <= t + minutes * 1000 * 60)]\n",
    "        temp.close = np.log(temp.close / temp.close.iloc[0])\n",
    "        temp.timestamp = temp.timestamp - temp.timestamp.iloc[0]\n",
    "        if (temp.close.iloc[-1] in list(sigs.values())): # We have this 'if' as an additional protection against the same outcomes from really similar timestamps -> espiecially valuable for HFT data.\n",
    "            continue\n",
    "        sigs[t] = temp.close.iloc[-1]\n",
    "        plt.plot(temp.timestamp / (1000 * 60), temp.close)\n",
    "    plt.grid()\n",
    "    plt.show()\n",
    "    \n",
    "    return sigs"
   ]
  },
  {
   "cell_type": "code",
   "execution_count": 29,
   "metadata": {},
   "outputs": [],
   "source": [
    "signals_performance = generate_paths_for_signal_timestamps(df, timestamps, 30)"
   ]
  },
  {
   "cell_type": "markdown",
   "metadata": {},
   "source": [
    "Stats of your signal performance at the end of the period"
   ]
  },
  {
   "cell_type": "code",
   "execution_count": 38,
   "metadata": {},
   "outputs": [
    {
     "data": {
      "text/plain": [
       "-0.002216289767372673"
      ]
     },
     "execution_count": 38,
     "metadata": {},
     "output_type": "execute_result"
    }
   ],
   "source": [
    "np.mean(list(signals_performance.values()))"
   ]
  },
  {
   "cell_type": "code",
   "execution_count": 39,
   "metadata": {},
   "outputs": [
    {
     "data": {
      "text/plain": [
       "-0.002757196314015331"
      ]
     },
     "execution_count": 39,
     "metadata": {},
     "output_type": "execute_result"
    }
   ],
   "source": [
    "np.median(list(signals_performance.values()))"
   ]
  },
  {
   "cell_type": "markdown",
   "metadata": {},
   "source": [
    "### ENJOY"
   ]
  }
 ],
 "metadata": {
  "kernelspec": {
   "display_name": "Python 3",
   "language": "python",
   "name": "python3"
  },
  "language_info": {
   "codemirror_mode": {
    "name": "ipython",
    "version": 3
   },
   "file_extension": ".py",
   "mimetype": "text/x-python",
   "name": "python",
   "nbconvert_exporter": "python",
   "pygments_lexer": "ipython3",
   "version": "3.7.3"
  }
 },
 "nbformat": 4,
 "nbformat_minor": 4
}
